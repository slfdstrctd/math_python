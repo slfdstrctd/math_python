{
 "cells": [
  {
   "cell_type": "code",
   "execution_count": 61,
   "metadata": {},
   "outputs": [],
   "source": [
    "import re\n",
    "import numpy as np"
   ]
  },
  {
   "cell_type": "code",
   "execution_count": 62,
   "metadata": {},
   "outputs": [
    {
     "data": {
      "text/plain": [
       "254"
      ]
     },
     "execution_count": 62,
     "metadata": {},
     "output_type": "execute_result"
    }
   ],
   "source": [
    "d = {}\n",
    "lines = []\n",
    "with open('sentences.txt') as f:\n",
    "    for count, line in enumerate(f.readlines()):\n",
    "        line = line.lower()\n",
    "        line = re.split('[^a-z]', line)\n",
    "        \n",
    "        lines.append(line)\n",
    "\n",
    "        lines[count] = [tok for tok in lines[count] if tok != '']\n",
    "\n",
    "        line = lines[count]\n",
    "\n",
    "        for key, token in enumerate(line):\n",
    "            if (len(token)):\n",
    "                if (token not in d):\n",
    "                    d[token] = 1\n",
    "                else:\n",
    "                    d[token] += 1\n",
    "        \n",
    "len(d)"
   ]
  },
  {
   "cell_type": "code",
   "execution_count": 63,
   "metadata": {},
   "outputs": [],
   "source": [
    "pred = []\n",
    "lines = list(lines)\n",
    "\n",
    "words = list(d)\n",
    "\n",
    "for i in range(count):\n",
    "    temp = []\n",
    "    for j in range(len(words)):\n",
    "        temp.append(lines[i].count(words[j]))\n",
    "    pred.append(np.array(temp))"
   ]
  },
  {
   "cell_type": "code",
   "execution_count": 64,
   "metadata": {},
   "outputs": [
    {
     "name": "stdout",
     "output_type": "stream",
     "text": [
      "[4. 6.]\n"
     ]
    }
   ],
   "source": [
    "from scipy import spatial\n",
    "res = np.zeros(shape=(20,2))\n",
    "\n",
    "for i in range(len(lines) - 2):\n",
    "    res[i] = (i+1, spatial.distance.cosine(pred[0], pred[i+1]))\n",
    "\n",
    "\n",
    "res = res[res[:, 1].argsort()]\n",
    "\n",
    "answ = res[0:2, 0]\n",
    "answ.sort()\n",
    "print(answ)\n",
    "\n",
    "f = open(\"submission-1.txt\", \"w\")\n",
    "f.write(\"%i %i\" % (answ[0], answ[1]))\n",
    "f.close()"
   ]
  }
 ],
 "metadata": {
  "interpreter": {
   "hash": "02769d244be1e9c182a881d7d25bc03ab28e10cd9282ec6a7530b69182abd7c2"
  },
  "kernelspec": {
   "display_name": "Python 3.10.2 64-bit",
   "language": "python",
   "name": "python3"
  },
  "language_info": {
   "codemirror_mode": {
    "name": "ipython",
    "version": 3
   },
   "file_extension": ".py",
   "mimetype": "text/x-python",
   "name": "python",
   "nbconvert_exporter": "python",
   "pygments_lexer": "ipython3",
   "version": "3.10.2"
  },
  "orig_nbformat": 4
 },
 "nbformat": 4,
 "nbformat_minor": 2
}
